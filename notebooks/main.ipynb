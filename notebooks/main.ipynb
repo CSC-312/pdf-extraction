{
 "cells": [
  {
   "cell_type": "code",
   "execution_count": 77,
   "id": "d733f6d0",
   "metadata": {},
   "outputs": [],
   "source": [
    "import pandas as pd"
   ]
  },
  {
   "cell_type": "code",
   "execution_count": 78,
   "id": "da09db39",
   "metadata": {},
   "outputs": [],
   "source": [
    "df = pd.read_csv(\"../data/UWC Website and PDF Data - Data.csv\")"
   ]
  },
  {
   "cell_type": "code",
   "execution_count": 79,
   "id": "7eec74f4",
   "metadata": {},
   "outputs": [
    {
     "data": {
      "text/plain": [
       "1044"
      ]
     },
     "execution_count": 79,
     "metadata": {},
     "output_type": "execute_result"
    }
   ],
   "source": [
    "df.__len__()  "
   ]
  },
  {
   "cell_type": "code",
   "execution_count": 80,
   "id": "fc5ef68a",
   "metadata": {},
   "outputs": [],
   "source": [
    "df = df[df['url'].str.endswith(\"pdf\")] "
   ]
  },
  {
   "cell_type": "code",
   "execution_count": 81,
   "id": "b432c048",
   "metadata": {},
   "outputs": [
    {
     "data": {
      "text/plain": [
       "554"
      ]
     },
     "execution_count": 81,
     "metadata": {},
     "output_type": "execute_result"
    }
   ],
   "source": [
    "df.__len__()  "
   ]
  },
  {
   "cell_type": "code",
   "execution_count": 82,
   "id": "6d20e635",
   "metadata": {},
   "outputs": [],
   "source": [
    "# Keep only rows that do NOT match any of the patterns\n",
    "df = df[\n",
    "    ~(\n",
    "        df['url'].str.contains(\"conference\", case=False, na=False)\n",
    "        | df['url'].str.contains(\"src\", case=False, na=False)\n",
    "        | df['url'].str.contains(\"chapter\", case=False, na=False)\n",
    "        | df['url'].str.contains(\"filesusr\", case=False, na=False)\n",
    "        | df['url'].str.contains(\"meltwaterafrica\", case=False, na=False)\n",
    "        | df['url'].str.contains(\"speech\", case=False, na=False)\n",
    "        | df['url'].str.contains(\"pptx\", case=False, na=False)\n",
    "        | df['url'].str.contains(\"map\", case=False, na=False)\n",
    "        | df['url'].str.contains(\"dammert\", case=False, na=False)\n",
    "        | df['url'].str.contains(\".com\", case=False, na=False)\n",
    "        | df['url'].str.contains(\".co.za\", case=False, na=False)\n",
    "        | df['url'].str.contains(\".org\", case=False, na=False)\n",
    "        | df['url'].str.contains(\"policy\", case=False, na=False)\n",
    "        | df['url'].str.contains(\n",
    "            \"365|1994|1995|1996|1997|1998|1999|2000|2001|2002|2003|2004|2005|2006|2007|2008|2009|2010|2011|2012|2013|2014|2015|2016|2017|2018|2019|2020|2021|2022|2023|2024\",\n",
    "            regex=True,\n",
    "            na=False\n",
    "        )\n",
    "    )\n",
    "]\n"
   ]
  },
  {
   "cell_type": "code",
   "execution_count": 83,
   "id": "5ed943a2",
   "metadata": {},
   "outputs": [
    {
     "data": {
      "application/vnd.microsoft.datawrangler.viewer.v0+json": {
       "columns": [
        {
         "name": "index",
         "rawType": "int64",
         "type": "integer"
        },
        {
         "name": "url",
         "rawType": "object",
         "type": "string"
        },
        {
         "name": "text",
         "rawType": "object",
         "type": "unknown"
        }
       ],
       "ref": "ce4c2105-a8f1-4690-8259-d2985116b621",
       "rows": [
        [
         "52",
         "https://uwc-za.b-cdn.net/files/files/UWC-IOP-Full-rev3.pdf",
         null
        ],
        [
         "223",
         "https://uwc-za.b-cdn.net/files/files/CODE-OF-CONDUCT-for-COUNCILdoc-.pdf",
         null
        ],
        [
         "234",
         "https://uwc-za.b-cdn.net/files/files/Access_to_information_Act.pdf",
         null
        ],
        [
         "239",
         "https://uwc-za.b-cdn.net/files/files/POPIA-FAQs-final-for-Publish-V1.pdf",
         null
        ],
        [
         "272",
         "https://uwc-za.b-cdn.net/files/files/SEMU-8-Panel-Print-Admissions-2025-241113-11.pdf",
         null
        ],
        [
         "276",
         "https://uwc-za.b-cdn.net/files/files/CONSENT.pdf",
         null
        ],
        [
         "277",
         "https://uwc-za.b-cdn.net/files/files/UWC-2026-Application-Brochure-1.pdf",
         null
        ],
        [
         "280",
         "https://uwc-za.b-cdn.net/files/files/New-Applicant-Online-Application-Guide.pdf",
         null
        ],
        [
         "313",
         "https://uwc-za.b-cdn.net/files/files/UWC-SARS-TCS-Good-Standing-expires-12-Feb-2026.pdf",
         null
        ],
        [
         "314",
         "https://uwc-za.b-cdn.net/files/files/260629_B-BBEE-Certificate_The-University-of-the-Western-Cape-5.pdf",
         null
        ],
        [
         "324",
         "https://uwc-za.b-cdn.net/files/files/Legacy-Fund-Debit-Order-Form-Digital-Form.pdf",
         null
        ],
        [
         "325",
         "https://uwc-za.b-cdn.net/files/files/360-Perspectives-Issue-6-Web-Version.pdf",
         null
        ],
        [
         "328",
         "https://uwc-za.b-cdn.net/files/files/2025-Orientation-Week-activities--FAQ-Infor-for-Media-office-and-Call-Centre.pdf",
         null
        ],
        [
         "329",
         "https://uwc-za.b-cdn.net/files/files/UWC-First-Year-Registration-Guide-_10-Jan-2025.pdf",
         null
        ],
        [
         "330",
         "https://uwc-za.b-cdn.net/files/files/UWC-Open-Day-Programme-2025.pdf",
         null
        ],
        [
         "331",
         "https://uwc-za.b-cdn.net/files/files/FAMILY-REBATE-FORM.pdf",
         null
        ],
        [
         "332",
         "https://uwc-za.b-cdn.net/files/files/FinAid-Application-Consent--Form.pdf",
         null
        ],
        [
         "339",
         "https://uwc-za.b-cdn.net/files/files/Financial-Aid--Brochure.pdf",
         null
        ],
        [
         "340",
         "https://uwc-za.b-cdn.net/files/files/Parent-POPIA-Act-Permission.pdf",
         null
        ],
        [
         "343",
         "https://uwc-za.b-cdn.net/files/files/POPIA-SOP-FAO-3.pdf",
         null
        ],
        [
         "345",
         "https://uwc-za.b-cdn.net/files/files/UWC-Entrance-Merit-Award.pdf",
         null
        ],
        [
         "346",
         "https://uwc-za.b-cdn.net/files/files/Student-banking-form-2.pdf",
         null
        ],
        [
         "348",
         "https://uwc-za.b-cdn.net/files/files/FAO-Travelling-Form-2.pdf",
         null
        ],
        [
         "349",
         "https://uwc-za.b-cdn.net/files/files/FAO-Cancellation-Form-1.pdf",
         null
        ],
        [
         "350",
         "https://uwc-za.b-cdn.net/files/files/Private-Boarding-Claim.pdf",
         null
        ],
        [
         "352",
         "https://uwc-za.b-cdn.net/files/files/medical_cover_guide-2.pdf",
         null
        ],
        [
         "362",
         "https://uwc-za.b-cdn.net/files/files/2025-Orientation-Week-activities--FAQ-Infor-for-Media-office-and-Call-Centre(1).pdf",
         null
        ],
        [
         "371",
         "https://uwc-za.b-cdn.net/files/files/UWC_2025_Career_Services_Brochure.pdf",
         null
        ],
        [
         "377",
         "https://uwc-za.b-cdn.net/files/files/UWC-Student-Sucess-Framework_Final.pdf",
         null
        ],
        [
         "394",
         "https://uwc-za.b-cdn.net/files/files/USSA-Activity-Calendar.pdf",
         null
        ],
        [
         "395",
         "https://uwc-za.b-cdn.net/files/files/Dr-Fikile-Vilakazi.pdf",
         null
        ],
        [
         "402",
         "https://uwc-za.b-cdn.net/files/files/Signals-newsletter-single-pages-for-web.pdf",
         null
        ],
        [
         "404",
         "https://uwc-za.b-cdn.net/files/files/Signals-Magazine_Edition-2.pdf",
         null
        ],
        [
         "406",
         "https://uwc-za.b-cdn.net/files/files/Signals-November-online.pdf",
         null
        ],
        [
         "407",
         "https://uwc-za.b-cdn.net/files/files/SDA-TIMETABLE--JULY-2025-2.pdf",
         null
        ],
        [
         "412",
         "https://uwc-za.b-cdn.net/files/files/2026-Calendar-v2.pdf",
         null
        ],
        [
         "416",
         "https://uwc-za.b-cdn.net/files/files/UWC-General-Calendar-2025-1.pdf",
         null
        ],
        [
         "419",
         "http://uwc-za.b-cdn.net/files/files/UWC-Faculty-of-Arts--Humanities-2025.pdf",
         null
        ],
        [
         "427",
         "http://uwc-za.b-cdn.net/files/files/UWC-Faculty-of-Dentistry-2025.pdf",
         null
        ],
        [
         "434",
         "http://uwc-za.b-cdn.net/files/files/UWC-Faculty-of-EMS-UG-2025.pdf",
         null
        ],
        [
         "436",
         "http://uwc-za.b-cdn.net/files/files/UWC-Faculty-of-Education-2025.pdf",
         null
        ],
        [
         "437",
         "http://uwc-za.b-cdn.net/files/files/UWC-Faculty-of-EMS-PG-2025.pdf",
         null
        ],
        [
         "448",
         "http://uwc-za.b-cdn.net/files/files/UWC-Faculty-of-Law-2025-1.pdf",
         null
        ],
        [
         "451",
         "http://uwc-za.b-cdn.net/files/files/UWC-Faculty-of-Natural-Science-2025.pdf",
         null
        ],
        [
         "453",
         "http://uwc-za.b-cdn.net/files/files/Local-Fees-Booklet-2025-12-March-2025.pdf",
         null
        ],
        [
         "463",
         "https://uwc-za.b-cdn.net/files/files/2025-ACADEMIC-TERMS-AND-ALMANAC-V2.pdf",
         null
        ],
        [
         "467",
         "http://uwc-za.b-cdn.net/files/files/International-Fees-Booklet-2025-12-March-2025.pdf",
         null
        ],
        [
         "475",
         "https://uwc-za.b-cdn.net/files/files/UWC-Faculty-of-Arts--Humanities-2025.pdf",
         null
        ],
        [
         "492",
         "https://uwc-za.b-cdn.net/files/files/UWC-Faculty-of-Dentistry-2025.pdf",
         null
        ],
        [
         "493",
         "https://uwc-za.b-cdn.net/files/files/UWC-Faculty-of-EMS-UG-2025.pdf",
         null
        ]
       ],
       "shape": {
        "columns": 2,
        "rows": 171
       }
      },
      "text/html": [
       "<div>\n",
       "<style scoped>\n",
       "    .dataframe tbody tr th:only-of-type {\n",
       "        vertical-align: middle;\n",
       "    }\n",
       "\n",
       "    .dataframe tbody tr th {\n",
       "        vertical-align: top;\n",
       "    }\n",
       "\n",
       "    .dataframe thead th {\n",
       "        text-align: right;\n",
       "    }\n",
       "</style>\n",
       "<table border=\"1\" class=\"dataframe\">\n",
       "  <thead>\n",
       "    <tr style=\"text-align: right;\">\n",
       "      <th></th>\n",
       "      <th>url</th>\n",
       "      <th>text</th>\n",
       "    </tr>\n",
       "  </thead>\n",
       "  <tbody>\n",
       "    <tr>\n",
       "      <th>52</th>\n",
       "      <td>https://uwc-za.b-cdn.net/files/files/UWC-IOP-F...</td>\n",
       "      <td>NaN</td>\n",
       "    </tr>\n",
       "    <tr>\n",
       "      <th>223</th>\n",
       "      <td>https://uwc-za.b-cdn.net/files/files/CODE-OF-C...</td>\n",
       "      <td>NaN</td>\n",
       "    </tr>\n",
       "    <tr>\n",
       "      <th>234</th>\n",
       "      <td>https://uwc-za.b-cdn.net/files/files/Access_to...</td>\n",
       "      <td>NaN</td>\n",
       "    </tr>\n",
       "    <tr>\n",
       "      <th>239</th>\n",
       "      <td>https://uwc-za.b-cdn.net/files/files/POPIA-FAQ...</td>\n",
       "      <td>NaN</td>\n",
       "    </tr>\n",
       "    <tr>\n",
       "      <th>272</th>\n",
       "      <td>https://uwc-za.b-cdn.net/files/files/SEMU-8-Pa...</td>\n",
       "      <td>NaN</td>\n",
       "    </tr>\n",
       "    <tr>\n",
       "      <th>...</th>\n",
       "      <td>...</td>\n",
       "      <td>...</td>\n",
       "    </tr>\n",
       "    <tr>\n",
       "      <th>939</th>\n",
       "      <td>https://uwc-za.b-cdn.net/files/files/RDO05-Pub...</td>\n",
       "      <td>NaN</td>\n",
       "    </tr>\n",
       "    <tr>\n",
       "      <th>948</th>\n",
       "      <td>https://uwc-za.b-cdn.net/files/files/Bird-chec...</td>\n",
       "      <td>NaN</td>\n",
       "    </tr>\n",
       "    <tr>\n",
       "      <th>1000</th>\n",
       "      <td>https://uwc-za.b-cdn.net/files/files/Direction...</td>\n",
       "      <td>NaN</td>\n",
       "    </tr>\n",
       "    <tr>\n",
       "      <th>1013</th>\n",
       "      <td>https://uwc-za.b-cdn.net/files/files/Patient-I...</td>\n",
       "      <td>NaN</td>\n",
       "    </tr>\n",
       "    <tr>\n",
       "      <th>1016</th>\n",
       "      <td>https://uwc-za.b-cdn.net/files/files/Standard-...</td>\n",
       "      <td>NaN</td>\n",
       "    </tr>\n",
       "  </tbody>\n",
       "</table>\n",
       "<p>171 rows × 2 columns</p>\n",
       "</div>"
      ],
      "text/plain": [
       "                                                    url text\n",
       "52    https://uwc-za.b-cdn.net/files/files/UWC-IOP-F...  NaN\n",
       "223   https://uwc-za.b-cdn.net/files/files/CODE-OF-C...  NaN\n",
       "234   https://uwc-za.b-cdn.net/files/files/Access_to...  NaN\n",
       "239   https://uwc-za.b-cdn.net/files/files/POPIA-FAQ...  NaN\n",
       "272   https://uwc-za.b-cdn.net/files/files/SEMU-8-Pa...  NaN\n",
       "...                                                 ...  ...\n",
       "939   https://uwc-za.b-cdn.net/files/files/RDO05-Pub...  NaN\n",
       "948   https://uwc-za.b-cdn.net/files/files/Bird-chec...  NaN\n",
       "1000  https://uwc-za.b-cdn.net/files/files/Direction...  NaN\n",
       "1013  https://uwc-za.b-cdn.net/files/files/Patient-I...  NaN\n",
       "1016  https://uwc-za.b-cdn.net/files/files/Standard-...  NaN\n",
       "\n",
       "[171 rows x 2 columns]"
      ]
     },
     "execution_count": 83,
     "metadata": {},
     "output_type": "execute_result"
    }
   ],
   "source": [
    "df"
   ]
  },
  {
   "cell_type": "code",
   "execution_count": 84,
   "id": "302b8cea",
   "metadata": {},
   "outputs": [],
   "source": [
    "df['url'].to_csv('../test.csv', index=False, header=False)"
   ]
  }
 ],
 "metadata": {
  "kernelspec": {
   "display_name": "pdf-extraction",
   "language": "python",
   "name": "python3"
  },
  "language_info": {
   "codemirror_mode": {
    "name": "ipython",
    "version": 3
   },
   "file_extension": ".py",
   "mimetype": "text/x-python",
   "name": "python",
   "nbconvert_exporter": "python",
   "pygments_lexer": "ipython3",
   "version": "3.13.5"
  }
 },
 "nbformat": 4,
 "nbformat_minor": 5
}
